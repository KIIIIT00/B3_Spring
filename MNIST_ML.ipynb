{
  "nbformat": 4,
  "nbformat_minor": 0,
  "metadata": {
    "colab": {
      "provenance": [],
      "authorship_tag": "ABX9TyNXq3qoI0Rb84g5qVCBqMOS",
      "include_colab_link": true
    },
    "kernelspec": {
      "name": "python3",
      "display_name": "Python 3"
    },
    "language_info": {
      "name": "python"
    }
  },
  "cells": [
    {
      "cell_type": "markdown",
      "metadata": {
        "id": "view-in-github",
        "colab_type": "text"
      },
      "source": [
        "<a href=\"https://colab.research.google.com/github/KIIIIT00/B3_Spring/blob/add%2FGoogleColab/MNIST_ML.ipynb\" target=\"_parent\"><img src=\"https://colab.research.google.com/assets/colab-badge.svg\" alt=\"Open In Colab\"/></a>"
      ]
    },
    {
      "cell_type": "code",
      "execution_count": null,
      "metadata": {
        "id": "Tkb6zD06j0ks"
      },
      "outputs": [],
      "source": [
        "# ライブラリのインストール\n",
        "!pip install torch torchvision tensorflow"
      ]
    },
    {
      "cell_type": "code",
      "source": [
        "# 必要なライブラリをインポート\n",
        "import os\n",
        "import torch\n",
        "import torch.nn as nn\n",
        "import torch.optim as optim\n",
        "import torchvision\n",
        "import torchvision.transforms as transforms\n",
        "from tensorflow.keras.datasets import mnist"
      ],
      "metadata": {
        "id": "OhriNvOZsmUh"
      },
      "execution_count": null,
      "outputs": []
    },
    {
      "cell_type": "code",
      "source": [
        "# CNNの定義\n",
        "class MNIST_CNN(nn.Module):\n",
        "  def __init__(self):\n",
        "    super(MNIST_CNN, self).__init__()\n",
        "    self.conv1 = nn.Conv2d(in_channels=1,\n",
        "                           out_channels=16,\n",
        "                           kernel_size=3,\n",
        "                           padding=1)\n",
        "    self.conv2 = nn.Conv2d(in_channels=16,\n",
        "                           out_channels=32,\n",
        "                           kernel_size=3,\n",
        "                           padding=1)\n",
        "    self.pool = nn.MaxPool2d(kernel_size=2, stride=2)\n",
        "    self.fc1 = nn.Linear(32 * 14 * 14, 128)\n",
        "    self.fc2 = nn.Linear(128, 10)\n",
        "    self.relu = nn.ReLU()\n",
        "\n",
        "  def forward(self, x):\n",
        "    x = self.relu(self.conv1(x))\n",
        "    x = self.pool(self.relu(self.conv2(x)))\n",
        "    x = x.view(x.size(0), -1)\n",
        "    x = self.relu(self.fc1(x))\n",
        "    x = self.fc2(x)\n",
        "    return x\n",
        "\n",
        "  def save_model(self, model_name):\n",
        "    model_path = f'{model_name}.pth'\n",
        "    torch.save(self.state_dict(), model_path)\n",
        "\n",
        "  def load_model(self, model_name):\n",
        "    model_path = f'{model_name}.pth'\n",
        "    if os.path.exists(model_path):\n",
        "      self.load_state_dict(torch.load(model_path))\n",
        "      print(\"Model loaded successfully\")\n",
        "    else:\n",
        "      print(\"Model not found\")"
      ],
      "metadata": {
        "id": "hbmMYTpc07N4"
      },
      "execution_count": null,
      "outputs": []
    },
    {
      "cell_type": "code",
      "source": [
        "# デバイスの設定\n",
        "device = torch.device(\"cuda\" if torch.cuda.is_available() else \"cpu\")\n",
        "\n",
        "# MNISTデータをロード\n",
        "(x_train, y_train), (x_test, y_test) = mnist.load_data()\n",
        "\n",
        "# データの前処理\n",
        "transform = transforms.Compose([\n",
        "    transforms.ToTensor(),\n",
        "    transforms.Normalize((0.5,), (0.5,))\n",
        "])\n",
        "\n",
        "x_train = torch.tensor(x_train, dtype=torch.float32).unsqueeze(1) / 255.0\n",
        "y_train = torch.tensor(y_train, dtype=torch.long)\n",
        "x_test = torch.tensor(x_test, dtype=torch.float32).unsqueeze(1) / 255.0\n",
        "y_test = torch.tensor(y_test, dtype=torch.long)\n",
        "\n",
        "# DataLoaderの作成\n",
        "batch_size = 64\n",
        "train_dataset = torch.utils.data.TensorDataset(x_train, y_train)\n",
        "test_dataset = torch.utils.data.TensorDataset(x_test, y_test)\n",
        "\n",
        "train_loader = torch.utils.data.DataLoader(train_dataset, batch_size=batch_size, shuffle=True)\n",
        "test_loader = torch.utils.data.DataLoader(test_dataset, batch_size=batch_size, shuffle=False)\n",
        "\n",
        "# モデルの作成\n",
        "model = MNIST_CNN().to(device)\n",
        "\n",
        "# 損失関数とオプティマイザの設定\n",
        "criterion = nn.CrossEntropyLoss()\n",
        "optimizer = optim.Adam(model.parameters(), lr=0.001)\n",
        "\n",
        "# 学習ループ\n",
        "epochs = 5\n",
        "for epoch in range(epochs):\n",
        "    running_loss = 0.0\n",
        "    for images, labels in train_loader:\n",
        "        images, labels = images.to(device), labels.to(device)\n",
        "\n",
        "        optimizer.zero_grad()\n",
        "        outputs = model(images)\n",
        "        loss = criterion(outputs, labels)\n",
        "        loss.backward()\n",
        "        optimizer.step()\n",
        "\n",
        "        running_loss += loss.item()\n",
        "\n",
        "    print(f\"Epoch {epoch+1}/{epochs}, Loss: {running_loss / len(train_loader):.4f}\")\n",
        "\n",
        "model.save_model(\"mnist_cnn\")\n",
        "# モデルの評価\n",
        "correct = 0\n",
        "total = 0\n",
        "model.eval()\n",
        "with torch.no_grad():\n",
        "    for images, labels in test_loader:\n",
        "        images, labels = images.to(device), labels.to(device)\n",
        "        outputs = model(images)\n",
        "        _, predicted = torch.max(outputs, 1)\n",
        "        total += labels.size(0)\n",
        "        correct += (predicted == labels).sum().item()\n",
        "\n",
        "print(f\"Test Accuracy: {100 * correct / total:.2f}%\")"
      ],
      "metadata": {
        "colab": {
          "base_uri": "https://localhost:8080/"
        },
        "id": "4sAAWUZys7U5",
        "outputId": "6839d598-f289-4ea6-d1f0-7d8b223777da"
      },
      "execution_count": null,
      "outputs": [
        {
          "output_type": "stream",
          "name": "stdout",
          "text": [
            "Epoch 1/5, Loss: 0.1997\n",
            "Epoch 2/5, Loss: 0.0539\n",
            "Epoch 3/5, Loss: 0.0359\n",
            "Epoch 4/5, Loss: 0.0245\n",
            "Epoch 5/5, Loss: 0.0179\n",
            "Test Accuracy: 98.78%\n"
          ]
        }
      ]
    }
  ]
}